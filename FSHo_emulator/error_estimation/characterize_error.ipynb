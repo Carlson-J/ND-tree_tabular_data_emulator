{
 "cells": [
  {
   "cell_type": "code",
   "execution_count": 2,
   "metadata": {
    "collapsed": true
   },
   "outputs": [],
   "source": [
    "import numpy as np\n",
    "import matplotlib.pyplot as plt\n",
    "from nd_emulator import build_emulator\n",
    "from data_loading_functions import load_SFHo_EOS"
   ]
  },
  {
   "cell_type": "code",
   "execution_count": 31,
   "metadata": {},
   "outputs": [
    {
     "name": "stderr",
     "output_type": "stream",
     "text": [
      "C:\\Users\\carls502\\OneDrive - Michigan State University\\Research\\ANL\\ND-tree_tabular_data_emulator\\nd_emulator\\domain_functions.py:36: FutureWarning: elementwise comparison failed; returning scalar instead, but in the future will perform elementwise comparison\n",
      "  if spacings[i] == 'linear':\n",
      "C:\\Users\\carls502\\OneDrive - Michigan State University\\Research\\ANL\\ND-tree_tabular_data_emulator\\nd_emulator\\domain_functions.py:38: FutureWarning: elementwise comparison failed; returning scalar instead, but in the future will perform elementwise comparison\n",
      "  elif spacings[i] == 'log':\n"
     ]
    },
    {
     "name": "stdout",
     "output_type": "stream",
     "text": [
      "WARNING!\n",
      "You have chosen a max depth that is greater than can be supported by your data.\n",
      "The max depth has been changed to 4.\n",
      "\n"
     ]
    }
   ],
   "source": [
    "EOS_file = \"../../../tables/Hempel_SFHoEOS_rho222_temp180_ye60_version_1.1_20120817.h5\"\n",
    "vars, domain = load_SFHo_EOS(EOS_file)\n",
    "spacing = ['linear', 'linear', 'linear']  # We will do the transform ahead of time.\n",
    "# get subset of Abar\n",
    "L = 17\n",
    "abar = vars['Abar']['f'][:L, :L, :L]\n",
    "\n",
    "relative_error_dict = {\n",
    "    'Abar': True,\n",
    "    'X3he': False,\n",
    "    'X4li': False,\n",
    "    'Xa': False,\n",
    "    'Xd': False,\n",
    "    'Xh': False,\n",
    "    'Xn': False,\n",
    "    'Xp': False,\n",
    "    'Xt': False,\n",
    "    'Zbar': True,\n",
    "    'cs2': True,\n",
    "    'dedt': True,\n",
    "    'dpderho': True,\n",
    "    'dpdrhoe': True,\n",
    "    'entropy': True,\n",
    "    'gamma': True,\n",
    "    'logenergy': True,\n",
    "    'logpress': True,\n",
    "    'mu_e': True,\n",
    "    'mu_n': True,\n",
    "    'mu_p': True,\n",
    "    'muhat': True,\n",
    "    'munu': True\n",
    "}\n",
    "\n",
    "# Specify model types\n",
    "# -- add each model type to the list in the format of a dict {'type': name, ...}\n",
    "model_classes = [{'type': 'nd-linear'}]\n",
    "error_type = 'RMSE'\n",
    "\n",
    "# set tree parameters\n",
    "# -- Make sure the depth of the tree is not so deep that there is not enough data\n",
    "# -- for example. If the smallest values in dims is 2**3+1, then the max depth you\n",
    "# -- can choose is 3.\n",
    "max_depth = 100  # as much refinement as needed.\n",
    "error_threshold = -1.0\n",
    "max_test_points = 100  # The max number of points to eval in a cell when estimating the error\n",
    "relative_error = True  # Whether or not the error threshold is absolute or relative error\n",
    "\n",
    "# create the emulator (should not need to modify this)\n",
    "emulator, tree = build_emulator({'f': abar}, max_depth, domain, spacing, error_threshold, model_classes,\n",
    "                                max_test_points=max_test_points, relative_error=relative_error,\n",
    "                                expand_index_domain=True, return_tree=True, error_type=error_type)\n",
    "\n",
    "max_depth = tree.achieved_depth\n",
    "leaves = tree.get_leaves()\n",
    "\n",
    "D =max_depth\n",
    "num_dims = tree.num_dims\n",
    "# n = 2**(D*num_dims)\n",
    "# errors = np.zeros([n, D+1])\n",
    "# ids = np.zeros_like(errors)\n",
    "# def get_errors(ni, nf, d, node):\n",
    "#     if d == D+1:\n",
    "#         return\n",
    "#     errors[ni:nf, d] = node['error']\n",
    "#     s_id = '0'\n",
    "#     for s in node['id']:\n",
    "#         s_id += f'{s}'\n",
    "#     ids[ni:nf, d] = float(s_id)\n",
    "#     nx = (nf - ni)//2**num_dims\n",
    "#     if d < D:\n",
    "#         for i in range(2**num_dims):\n",
    "#             get_errors(ni + i*nx, ni + (i+1)*nx, d+1, node['children'][i])\n",
    "#     return\n",
    "#\n",
    "# get_errors(0, n, 0, tree.root)\n",
    "\n",
    "E = []\n",
    "for leaf in leaves:\n",
    "    if leaf['error'] is not None:\n",
    "      E.append(leaf)\n",
    "errors_1 = np.zeros([len(E),max_depth+1])\n",
    "EPS = 10**-16\n",
    "for i in range(len(E)):\n",
    "    current_node = tree.root\n",
    "    errors_1[i, 0] = current_node['error']\n",
    "    for j in range(max_depth):\n",
    "        current_node = current_node['children'][E[i]['id'][j]]\n",
    "        errors_1[i, j+1] = current_node['error']\n",
    "    h = 1\n",
    "    # linear fit\n",
    "    hs = np.log(np.array([1, 0.5, 0.25, 0.125, 0.125/2.]))\n",
    "    fit = np.polyfit(hs[-3:-1], np.log(errors_1[i, -3:-1] + EPS), h)\n",
    "    last_col = fit[0]*hs[-1] + fit[1]\n",
    "    errors_1[i,-1] = np.exp(last_col)\n",
    "\n"
   ]
  },
  {
   "cell_type": "code",
   "execution_count": 32,
   "outputs": [
    {
     "data": {
      "text/plain": "<Figure size 432x288 with 1 Axes>",
      "image/png": "[encoded data removed]"
     },
     "metadata": {
      "needs_background": "light"
     },
     "output_type": "display_data"
    }
   ],
   "source": [
    "\n",
    "data = np.array([max(10**-16, v) for v in errors_1[:,-1]])\n",
    "bins = 20\n",
    "d, b, p = plt.hist(np.log10(data), bins, density=True, range=[-9, -5])\n",
    "# plt.plot(d,b)"
   ],
   "metadata": {
    "collapsed": false,
    "pycharm": {
     "name": "#%%\n"
    }
   }
  },
  {
   "cell_type": "code",
   "execution_count": 17,
   "outputs": [],
   "source": [
    "\n",
    "errors_loaded = np.load('./errors_Abar.npy')"
   ],
   "metadata": {
    "collapsed": false,
    "pycharm": {
     "name": "#%%\n"
    }
   }
  },
  {
   "cell_type": "code",
   "execution_count": 7,
   "outputs": [
    {
     "data": {
      "text/plain": "<Figure size 432x288 with 1 Axes>",
      "image/png": "[encoded data removed]"
     },
     "metadata": {
      "needs_background": "light"
     },
     "output_type": "display_data"
    }
   ],
   "source": [
    "\n",
    "\n",
    "data = np.array([max(10**-16, v) for v in errors_loaded[:,-1]])\n",
    "bins = 20\n",
    "d, b, p = plt.hist(np.log10(data), bins, density=True)\n",
    "# plt.plot(d,b)"
   ],
   "metadata": {
    "collapsed": false,
    "pycharm": {
     "name": "#%%\n"
    }
   }
  },
  {
   "cell_type": "code",
   "execution_count": 9,
   "outputs": [],
   "source": [
    "\n",
    "EOS_file = \"../../../tables/Hempel_SFHoEOS_rho222_temp180_ye60_version_1.1_20120817.h5\"\n",
    "vars, domain = load_SFHo_EOS(EOS_file)"
   ],
   "metadata": {
    "collapsed": false,
    "pycharm": {
     "name": "#%%\n"
    }
   }
  },
  {
   "cell_type": "code",
   "execution_count": 18,
   "outputs": [
    {
     "name": "stdout",
     "output_type": "stream",
     "text": [
      "Abar      : max=  3.39e+02, min =  1.00e+00\n",
      "X3he      : max=  1.16e-01, min =  0.00e+00\n",
      "X4li      : max=  2.16e-02, min =  0.00e+00\n",
      "Xa        : max=  9.78e-01, min =  0.00e+00\n",
      "Xd        : max=  1.94e-01, min =  0.00e+00\n",
      "Xh        : max=  1.00e+00, min =  0.00e+00\n",
      "Xn        : max=  9.90e-01, min = 2.57e-104\n",
      "Xp        : max=  6.00e-01, min = 1.43e-133\n",
      "Xt        : max=  1.67e-01, min =  0.00e+00\n",
      "Zbar      : max=  1.35e+02, min =  1.00e+00\n",
      "cs2       : max=  5.13e+32, min = -4.71e+18\n",
      "dedt      : max=  3.62e+31, min = -1.41e+18\n",
      "dpderho   : max=  1.68e+19, min = -4.89e+17\n",
      "dpdrhoe   : max=  3.85e+32, min = -6.47e+24\n",
      "entropy   : max=  1.25e+13, min =  1.61e-04\n",
      "gamma     : max=  3.00e+03, min = -2.50e+01\n",
      "logenergy : max=  3.32e+01, min =  1.61e+01\n",
      "logpress  : max=  3.67e+01, min =  1.80e+01\n",
      "mu_e      : max=  6.38e+02, min =  9.36e-07\n",
      "mu_n      : max=  2.36e+03, min = -2.73e+03\n",
      "mu_p      : max=  2.25e+03, min = -2.73e+03\n",
      "muhat     : max=  6.74e+02, min = -9.43e+01\n",
      "munu      : max=  7.16e+02, min = -6.46e+02\n"
     ]
    }
   ],
   "source": [
    "for key in vars.keys():\n",
    "    max = np.max(vars[key]['f'])\n",
    "    min = np.min(vars[key]['f'])\n",
    "    print(f'{key: <10}: max= {max:9.2e}, min = {min:9.2e}')"
   ],
   "metadata": {
    "collapsed": false,
    "pycharm": {
     "name": "#%%\n"
    }
   }
  },
  {
   "cell_type": "code",
   "execution_count": null,
   "outputs": [],
   "source": [],
   "metadata": {
    "collapsed": false,
    "pycharm": {
     "name": "#%%\n"
    }
   }
  }
 ],
 "metadata": {
  "kernelspec": {
   "name": "python3",
   "language": "python",
   "display_name": "Python 3"
  },
  "language_info": {
   "codemirror_mode": {
    "name": "ipython",
    "version": 2
   },
   "file_extension": ".py",
   "mimetype": "text/x-python",
   "name": "python",
   "nbconvert_exporter": "python",
   "pygments_lexer": "ipython2",
   "version": "3.7.4"
  },
  "interpreter": {
   "hash": "a8f61be024eba58adef938c9aa1e29e02cb3dece83a5348b1a2dafd16a070453"
  }
 },
 "nbformat": 4,
 "nbformat_minor": 0
}